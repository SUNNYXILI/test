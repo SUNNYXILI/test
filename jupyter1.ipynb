{
    "cells": [
        {
            "cell_type": "markdown",
            "metadata": {},
            "source": "##Description"
        },
        {
            "cell_type": "code",
            "execution_count": 1,
            "metadata": {},
            "outputs": [
                {
                    "data": {
                        "text/html": "<div>\n<style scoped>\n    .dataframe tbody tr th:only-of-type {\n        vertical-align: middle;\n    }\n\n    .dataframe tbody tr th {\n        vertical-align: top;\n    }\n\n    .dataframe thead th {\n        text-align: right;\n    }\n</style>\n<table border=\"1\" class=\"dataframe\">\n  <thead>\n    <tr style=\"text-align: right;\">\n      <th></th>\n      <th>ACCOUNT_MGR_ID</th>\n      <th>CITY</th>\n      <th>COUNTRY_ID</th>\n      <th>COUNTRY_NAME</th>\n      <th>CREDIT_LIMIT</th>\n      <th>CUSTOMER_DIM_ID</th>\n      <th>CUSTOMER_ID</th>\n      <th>CUST_EMAIL</th>\n      <th>CUST_FIRST_NAME</th>\n      <th>CUST_LAST_NAME</th>\n      <th>...</th>\n      <th>JOB_ID</th>\n      <th>LAST_NAME</th>\n      <th>MANAGER_ID</th>\n      <th>PHONE_NUMBER</th>\n      <th>SALARY</th>\n      <th>SALESREP_DIM_ID</th>\n      <th>SALESREP_ID</th>\n      <th>DOLLARS_SOLD</th>\n      <th>AMOUNTS_SOLD</th>\n      <th>ORDER_ID</th>\n    </tr>\n  </thead>\n  <tbody>\n    <tr>\n      <th>0</th>\n      <td>145</td>\n      <td>Indianapolis</td>\n      <td>US</td>\n      <td>United States of America</td>\n      <td>100</td>\n      <td>161</td>\n      <td>104</td>\n      <td>Harrison.Sutherland@GODWIT.EXAMPLE.COM</td>\n      <td>Harrison</td>\n      <td>Sutherland</td>\n      <td>...</td>\n      <td>SA_REP</td>\n      <td>Tuvault</td>\n      <td>145.0</td>\n      <td>1.144134e+13</td>\n      <td>7000.0</td>\n      <td>9</td>\n      <td>155.0</td>\n      <td>848.0</td>\n      <td>53</td>\n      <td>2354</td>\n    </tr>\n    <tr>\n      <th>1</th>\n      <td>145</td>\n      <td>Indianapolis</td>\n      <td>US</td>\n      <td>United States of America</td>\n      <td>100</td>\n      <td>161</td>\n      <td>104</td>\n      <td>Harrison.Sutherland@GODWIT.EXAMPLE.COM</td>\n      <td>Harrison</td>\n      <td>Sutherland</td>\n      <td>...</td>\n      <td>SA_REP</td>\n      <td>Tuvault</td>\n      <td>145.0</td>\n      <td>1.144134e+13</td>\n      <td>7000.0</td>\n      <td>9</td>\n      <td>155.0</td>\n      <td>3713.0</td>\n      <td>47</td>\n      <td>2354</td>\n    </tr>\n    <tr>\n      <th>2</th>\n      <td>145</td>\n      <td>Indianapolis</td>\n      <td>US</td>\n      <td>United States of America</td>\n      <td>100</td>\n      <td>161</td>\n      <td>104</td>\n      <td>Harrison.Sutherland@GODWIT.EXAMPLE.COM</td>\n      <td>Harrison</td>\n      <td>Sutherland</td>\n      <td>...</td>\n      <td>SA_REP</td>\n      <td>Tuvault</td>\n      <td>145.0</td>\n      <td>1.144134e+13</td>\n      <td>7000.0</td>\n      <td>9</td>\n      <td>155.0</td>\n      <td>1927.0</td>\n      <td>47</td>\n      <td>2354</td>\n    </tr>\n    <tr>\n      <th>3</th>\n      <td>145</td>\n      <td>Indianapolis</td>\n      <td>US</td>\n      <td>United States of America</td>\n      <td>100</td>\n      <td>161</td>\n      <td>104</td>\n      <td>Harrison.Sutherland@GODWIT.EXAMPLE.COM</td>\n      <td>Harrison</td>\n      <td>Sutherland</td>\n      <td>...</td>\n      <td>SA_REP</td>\n      <td>Tuvault</td>\n      <td>145.0</td>\n      <td>1.144134e+13</td>\n      <td>7000.0</td>\n      <td>9</td>\n      <td>155.0</td>\n      <td>1008.0</td>\n      <td>48</td>\n      <td>2354</td>\n    </tr>\n    <tr>\n      <th>4</th>\n      <td>145</td>\n      <td>Indianapolis</td>\n      <td>US</td>\n      <td>United States of America</td>\n      <td>100</td>\n      <td>161</td>\n      <td>104</td>\n      <td>Harrison.Sutherland@GODWIT.EXAMPLE.COM</td>\n      <td>Harrison</td>\n      <td>Sutherland</td>\n      <td>...</td>\n      <td>SA_REP</td>\n      <td>Tuvault</td>\n      <td>145.0</td>\n      <td>1.144134e+13</td>\n      <td>7000.0</td>\n      <td>9</td>\n      <td>155.0</td>\n      <td>2928.0</td>\n      <td>61</td>\n      <td>2354</td>\n    </tr>\n  </tbody>\n</table>\n<p>5 rows \u00d7 69 columns</p>\n</div>",
                        "text/plain": "   ACCOUNT_MGR_ID          CITY COUNTRY_ID              COUNTRY_NAME  \\\n0             145  Indianapolis         US  United States of America   \n1             145  Indianapolis         US  United States of America   \n2             145  Indianapolis         US  United States of America   \n3             145  Indianapolis         US  United States of America   \n4             145  Indianapolis         US  United States of America   \n\n   CREDIT_LIMIT  CUSTOMER_DIM_ID  CUSTOMER_ID  \\\n0           100              161          104   \n1           100              161          104   \n2           100              161          104   \n3           100              161          104   \n4           100              161          104   \n\n                               CUST_EMAIL CUST_FIRST_NAME CUST_LAST_NAME  ...  \\\n0  Harrison.Sutherland@GODWIT.EXAMPLE.COM        Harrison     Sutherland  ...   \n1  Harrison.Sutherland@GODWIT.EXAMPLE.COM        Harrison     Sutherland  ...   \n2  Harrison.Sutherland@GODWIT.EXAMPLE.COM        Harrison     Sutherland  ...   \n3  Harrison.Sutherland@GODWIT.EXAMPLE.COM        Harrison     Sutherland  ...   \n4  Harrison.Sutherland@GODWIT.EXAMPLE.COM        Harrison     Sutherland  ...   \n\n   JOB_ID  LAST_NAME  MANAGER_ID  PHONE_NUMBER  SALARY SALESREP_DIM_ID  \\\n0  SA_REP    Tuvault       145.0  1.144134e+13  7000.0               9   \n1  SA_REP    Tuvault       145.0  1.144134e+13  7000.0               9   \n2  SA_REP    Tuvault       145.0  1.144134e+13  7000.0               9   \n3  SA_REP    Tuvault       145.0  1.144134e+13  7000.0               9   \n4  SA_REP    Tuvault       145.0  1.144134e+13  7000.0               9   \n\n   SALESREP_ID  DOLLARS_SOLD AMOUNTS_SOLD  ORDER_ID  \n0        155.0         848.0           53      2354  \n1        155.0        3713.0           47      2354  \n2        155.0        1927.0           47      2354  \n3        155.0        1008.0           48      2354  \n4        155.0        2928.0           61      2354  \n\n[5 rows x 69 columns]"
                    },
                    "execution_count": 1,
                    "metadata": {},
                    "output_type": "execute_result"
                }
            ],
            "source": "# The code was removed by Watson Studio for sharing."
        },
        {
            "cell_type": "code",
            "execution_count": null,
            "metadata": {},
            "outputs": [],
            "source": ""
        }
    ],
    "metadata": {
        "kernelspec": {
            "display_name": "Python 3.6",
            "language": "python",
            "name": "python3"
        },
        "language_info": {
            "codemirror_mode": {
                "name": "ipython",
                "version": 3
            },
            "file_extension": ".py",
            "mimetype": "text/x-python",
            "name": "python",
            "nbconvert_exporter": "python",
            "pygments_lexer": "ipython3",
            "version": "3.6.9"
        }
    },
    "nbformat": 4,
    "nbformat_minor": 1
}